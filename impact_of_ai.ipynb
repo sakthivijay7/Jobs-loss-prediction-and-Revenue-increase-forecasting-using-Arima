{
 "cells": [
  {
   "cell_type": "markdown",
   "id": "c004bdfd",
   "metadata": {},
   "source": [
    "Import library "
   ]
  },
  {
   "cell_type": "code",
   "execution_count": 5,
   "id": "56232d15",
   "metadata": {},
   "outputs": [],
   "source": [
    "import pandas as pd\n",
    "import os"
   ]
  },
  {
   "cell_type": "markdown",
   "id": "d8106078",
   "metadata": {},
   "source": [
    "Dataset path"
   ]
  },
  {
   "cell_type": "code",
   "execution_count": 6,
   "id": "900e43ae",
   "metadata": {},
   "outputs": [],
   "source": [
    "folder=\"D:\\\\ALL\\\\Datasets\"\n",
    "file=\"Global_AI_Content_Impact_Dataset.csv\"\n",
    "csv_file=os.path.join(folder,file)"
   ]
  },
  {
   "cell_type": "markdown",
   "id": "faaac8f7",
   "metadata": {},
   "source": [
    "Datatypes "
   ]
  },
  {
   "cell_type": "code",
   "execution_count": 7,
   "id": "7149c0d2",
   "metadata": {},
   "outputs": [
    {
     "name": "stdout",
     "output_type": "stream",
     "text": [
      "Country                                        object\n",
      "Year                                            int64\n",
      "Industry                                       object\n",
      "AI Adoption Rate (%)                          float64\n",
      "AI-Generated Content Volume (TBs per year)    float64\n",
      "Job Loss Due to AI (%)                        float64\n",
      "Revenue Increase Due to AI (%)                float64\n",
      "Human-AI Collaboration Rate (%)               float64\n",
      "Top AI Tools Used                              object\n",
      "Regulation Status                              object\n",
      "Consumer Trust in AI (%)                      float64\n",
      "Market Share of AI Companies (%)              float64\n",
      "dtype: object\n"
     ]
    }
   ],
   "source": [
    "dataset=pd.read_csv(csv_file)\n",
    "print(dataset.dtypes)"
   ]
  },
  {
   "cell_type": "markdown",
   "id": "9eaf203e",
   "metadata": {},
   "source": [
    "Null values checking"
   ]
  },
  {
   "cell_type": "code",
   "execution_count": 9,
   "id": "50b2d56b",
   "metadata": {},
   "outputs": [
    {
     "name": "stdout",
     "output_type": "stream",
     "text": [
      "Country                                       0\n",
      "Year                                          0\n",
      "Industry                                      0\n",
      "AI Adoption Rate (%)                          0\n",
      "AI-Generated Content Volume (TBs per year)    0\n",
      "Job Loss Due to AI (%)                        0\n",
      "Revenue Increase Due to AI (%)                0\n",
      "Human-AI Collaboration Rate (%)               0\n",
      "Top AI Tools Used                             0\n",
      "Regulation Status                             0\n",
      "Consumer Trust in AI (%)                      0\n",
      "Market Share of AI Companies (%)              0\n",
      "dtype: int64\n"
     ]
    }
   ],
   "source": [
    "print(dataset.isnull().sum())"
   ]
  },
  {
   "cell_type": "markdown",
   "id": "3c4f68f3",
   "metadata": {},
   "source": [
    "Statistical report"
   ]
  },
  {
   "cell_type": "code",
   "execution_count": 10,
   "id": "1fdeb009",
   "metadata": {},
   "outputs": [
    {
     "name": "stdout",
     "output_type": "stream",
     "text": [
      "              Year  AI Adoption Rate (%)  \\\n",
      "count   200.000000            200.000000   \n",
      "mean   2022.315000             54.265850   \n",
      "std       1.825496             24.218067   \n",
      "min    2020.000000             10.530000   \n",
      "25%    2021.000000             33.222500   \n",
      "50%    2022.000000             53.310000   \n",
      "75%    2024.000000             76.220000   \n",
      "max    2025.000000             94.760000   \n",
      "\n",
      "       AI-Generated Content Volume (TBs per year)  Job Loss Due to AI (%)  \\\n",
      "count                                   200.00000              200.000000   \n",
      "mean                                     46.07260               25.788250   \n",
      "std                                      29.16122               13.901105   \n",
      "min                                       1.04000                0.090000   \n",
      "25%                                      20.32250               14.995000   \n",
      "50%                                      44.32000               25.735000   \n",
      "75%                                      71.62000               37.417500   \n",
      "max                                      99.06000               49.710000   \n",
      "\n",
      "       Revenue Increase Due to AI (%)  Human-AI Collaboration Rate (%)  \\\n",
      "count                      200.000000                       200.000000   \n",
      "mean                        39.719450                        54.102150   \n",
      "std                         23.829545                        19.247079   \n",
      "min                          0.140000                        20.210000   \n",
      "25%                         17.907500                        37.770000   \n",
      "50%                         42.100000                        54.515000   \n",
      "75%                         58.697500                        69.402500   \n",
      "max                         79.550000                        88.290000   \n",
      "\n",
      "       Consumer Trust in AI (%)  Market Share of AI Companies (%)  \n",
      "count                200.000000                        200.000000  \n",
      "mean                  59.425150                         26.569550  \n",
      "std                   17.319668                         14.023729  \n",
      "min                   30.120000                          1.180000  \n",
      "25%                   44.755000                         14.052500  \n",
      "50%                   59.215000                         27.390000  \n",
      "75%                   74.885000                         38.432500  \n",
      "max                   89.880000                         49.280000  \n"
     ]
    }
   ],
   "source": [
    "print(dataset.describe())"
   ]
  },
  {
   "cell_type": "markdown",
   "id": "9c291a60",
   "metadata": {},
   "source": [
    "Input -- Features"
   ]
  },
  {
   "cell_type": "code",
   "execution_count": 44,
   "id": "dd1a3ab8",
   "metadata": {},
   "outputs": [
    {
     "name": "stdout",
     "output_type": "stream",
     "text": [
      "         Country  Year    Industry  AI Adoption Rate (%)  \\\n",
      "0    South Korea  2022       Media                 44.29   \n",
      "1          China  2025       Legal                 34.75   \n",
      "2            USA  2022  Automotive                 81.06   \n",
      "3         France  2021       Legal                 85.24   \n",
      "4         France  2021      Gaming                 78.95   \n",
      "..           ...   ...         ...                   ...   \n",
      "195      Germany  2021  Automotive                 89.44   \n",
      "196      Germany  2020       Media                 70.11   \n",
      "197       France  2023   Marketing                 65.77   \n",
      "198    Australia  2023  Automotive                 45.35   \n",
      "199  South Korea  2020  Healthcare                 10.53   \n",
      "\n",
      "     AI-Generated Content Volume (TBs per year)  \\\n",
      "0                                         33.09   \n",
      "1                                         66.74   \n",
      "2                                         96.13   \n",
      "3                                         93.76   \n",
      "4                                         45.62   \n",
      "..                                          ...   \n",
      "195                                       52.98   \n",
      "196                                       28.26   \n",
      "197                                       49.83   \n",
      "198                                       20.49   \n",
      "199                                       20.97   \n",
      "\n",
      "     Revenue Increase Due to AI (%)  Human-AI Collaboration Rate (%)  \\\n",
      "0                             46.12                            74.79   \n",
      "1                             52.46                            26.17   \n",
      "2                             45.60                            39.66   \n",
      "3                             78.24                            29.45   \n",
      "4                              1.05                            21.70   \n",
      "..                              ...                              ...   \n",
      "195                           12.14                            30.60   \n",
      "196                           57.86                            58.71   \n",
      "197                           79.44                            43.73   \n",
      "198                           50.50                            41.73   \n",
      "199                           34.27                            45.67   \n",
      "\n",
      "    Top AI Tools Used Regulation Status  Consumer Trust in AI (%)  \\\n",
      "0                Bard            Strict                     40.77   \n",
      "1              DALL-E            Strict                     35.67   \n",
      "2    Stable Diffusion          Moderate                     54.47   \n",
      "3              Claude          Moderate                     51.84   \n",
      "4          Midjourney            Strict                     41.77   \n",
      "..                ...               ...                       ...   \n",
      "195            DALL-E           Lenient                     77.21   \n",
      "196            DALL-E            Strict                     78.74   \n",
      "197         Synthesia           Lenient                     81.58   \n",
      "198            Claude            Strict                     47.42   \n",
      "199  Stable Diffusion          Moderate                     58.52   \n",
      "\n",
      "     Market Share of AI Companies (%)  \n",
      "0                               18.73  \n",
      "1                               35.02  \n",
      "2                               22.76  \n",
      "3                                1.93  \n",
      "4                               21.41  \n",
      "..                                ...  \n",
      "195                             44.35  \n",
      "196                             31.73  \n",
      "197                             14.62  \n",
      "198                             43.11  \n",
      "199                             33.37  \n",
      "\n",
      "[200 rows x 11 columns]\n"
     ]
    }
   ],
   "source": [
    "x=dataset.drop([\"Job Loss Due to AI (%)\"],axis=1)\n",
    "print(x)"
   ]
  },
  {
   "cell_type": "markdown",
   "id": "90151018",
   "metadata": {},
   "source": [
    "Output -- Target"
   ]
  },
  {
   "cell_type": "code",
   "execution_count": 45,
   "id": "ce1b6b6c",
   "metadata": {},
   "outputs": [
    {
     "name": "stdout",
     "output_type": "stream",
     "text": [
      "0      16.77\n",
      "1      46.89\n",
      "2      10.66\n",
      "3      27.70\n",
      "4      17.45\n",
      "       ...  \n",
      "195    48.47\n",
      "196    27.62\n",
      "197    39.94\n",
      "198    33.21\n",
      "199    23.64\n",
      "Name: Job Loss Due to AI (%), Length: 200, dtype: float64\n"
     ]
    }
   ],
   "source": [
    "y=dataset[\"Job Loss Due to AI (%)\"]\n",
    "print(y)"
   ]
  },
  {
   "cell_type": "code",
   "execution_count": 204,
   "id": "044b074d",
   "metadata": {},
   "outputs": [
    {
     "data": {
      "image/png": "[encoded data removed]",
      "text/plain": [
       "<Figure size 1200x600 with 1 Axes>"
      ]
     },
     "metadata": {},
     "output_type": "display_data"
    }
   ],
   "source": [
    "import matplotlib.pyplot as plt\n",
    "industry=x[\"Industry\"]\n",
    "plt.figure(figsize=(12,6))\n",
    "plt.bar(industry,y)\n",
    "plt.title(\"Industry wise job loss %\")\n",
    "plt.xlabel(\"Industry\")\n",
    "plt.ylabel(\"Job loss % Due to AI\")\n",
    "plt.xticks(rotation=45)\n",
    "plt.show()"
   ]
  },
  {
   "cell_type": "markdown",
   "id": "0a3d37bf",
   "metadata": {},
   "source": [
    "Encoding for categorical values"
   ]
  },
  {
   "cell_type": "code",
   "execution_count": 46,
   "id": "c732079f",
   "metadata": {},
   "outputs": [
    {
     "name": "stdout",
     "output_type": "stream",
     "text": [
      "     Year  AI Adoption Rate (%)  AI-Generated Content Volume (TBs per year)  \\\n",
      "0    2022                 44.29                                       33.09   \n",
      "1    2025                 34.75                                       66.74   \n",
      "2    2022                 81.06                                       96.13   \n",
      "3    2021                 85.24                                       93.76   \n",
      "4    2021                 78.95                                       45.62   \n",
      "..    ...                   ...                                         ...   \n",
      "195  2021                 89.44                                       52.98   \n",
      "196  2020                 70.11                                       28.26   \n",
      "197  2023                 65.77                                       49.83   \n",
      "198  2023                 45.35                                       20.49   \n",
      "199  2020                 10.53                                       20.97   \n",
      "\n",
      "     Revenue Increase Due to AI (%)  Human-AI Collaboration Rate (%)  \\\n",
      "0                             46.12                            74.79   \n",
      "1                             52.46                            26.17   \n",
      "2                             45.60                            39.66   \n",
      "3                             78.24                            29.45   \n",
      "4                              1.05                            21.70   \n",
      "..                              ...                              ...   \n",
      "195                           12.14                            30.60   \n",
      "196                           57.86                            58.71   \n",
      "197                           79.44                            43.73   \n",
      "198                           50.50                            41.73   \n",
      "199                           34.27                            45.67   \n",
      "\n",
      "     Consumer Trust in AI (%)  Market Share of AI Companies (%)  \\\n",
      "0                       40.77                             18.73   \n",
      "1                       35.67                             35.02   \n",
      "2                       54.47                             22.76   \n",
      "3                       51.84                              1.93   \n",
      "4                       41.77                             21.41   \n",
      "..                        ...                               ...   \n",
      "195                     77.21                             44.35   \n",
      "196                     78.74                             31.73   \n",
      "197                     81.58                             14.62   \n",
      "198                     47.42                             43.11   \n",
      "199                     58.52                             33.37   \n",
      "\n",
      "     Country_Australia  Country_Canada  Country_China  ...  \\\n",
      "0                    0               0              0  ...   \n",
      "1                    0               0              1  ...   \n",
      "2                    0               0              0  ...   \n",
      "3                    0               0              0  ...   \n",
      "4                    0               0              0  ...   \n",
      "..                 ...             ...            ...  ...   \n",
      "195                  0               0              0  ...   \n",
      "196                  0               0              0  ...   \n",
      "197                  0               0              0  ...   \n",
      "198                  1               0              0  ...   \n",
      "199                  0               0              0  ...   \n",
      "\n",
      "     Top AI Tools Used_Bard  Top AI Tools Used_ChatGPT  \\\n",
      "0                         1                          0   \n",
      "1                         0                          0   \n",
      "2                         0                          0   \n",
      "3                         0                          0   \n",
      "4                         0                          0   \n",
      "..                      ...                        ...   \n",
      "195                       0                          0   \n",
      "196                       0                          0   \n",
      "197                       0                          0   \n",
      "198                       0                          0   \n",
      "199                       0                          0   \n",
      "\n",
      "     Top AI Tools Used_Claude  Top AI Tools Used_DALL-E  \\\n",
      "0                           0                         0   \n",
      "1                           0                         1   \n",
      "2                           0                         0   \n",
      "3                           1                         0   \n",
      "4                           0                         0   \n",
      "..                        ...                       ...   \n",
      "195                         0                         1   \n",
      "196                         0                         1   \n",
      "197                         0                         0   \n",
      "198                         1                         0   \n",
      "199                         0                         0   \n",
      "\n",
      "     Top AI Tools Used_Midjourney  Top AI Tools Used_Stable Diffusion  \\\n",
      "0                               0                                   0   \n",
      "1                               0                                   0   \n",
      "2                               0                                   1   \n",
      "3                               0                                   0   \n",
      "4                               1                                   0   \n",
      "..                            ...                                 ...   \n",
      "195                             0                                   0   \n",
      "196                             0                                   0   \n",
      "197                             0                                   0   \n",
      "198                             0                                   0   \n",
      "199                             0                                   1   \n",
      "\n",
      "     Top AI Tools Used_Synthesia  Regulation Status_Lenient  \\\n",
      "0                              0                          0   \n",
      "1                              0                          0   \n",
      "2                              0                          0   \n",
      "3                              0                          0   \n",
      "4                              0                          0   \n",
      "..                           ...                        ...   \n",
      "195                            0                          1   \n",
      "196                            0                          0   \n",
      "197                            1                          1   \n",
      "198                            0                          0   \n",
      "199                            0                          0   \n",
      "\n",
      "     Regulation Status_Moderate  Regulation Status_Strict  \n",
      "0                             0                         1  \n",
      "1                             0                         1  \n",
      "2                             1                         0  \n",
      "3                             1                         0  \n",
      "4                             0                         1  \n",
      "..                          ...                       ...  \n",
      "195                           0                         0  \n",
      "196                           0                         1  \n",
      "197                           0                         0  \n",
      "198                           0                         1  \n",
      "199                           1                         0  \n",
      "\n",
      "[200 rows x 37 columns]\n"
     ]
    }
   ],
   "source": [
    "category=[\"Country\",\"Industry\",\"Top AI Tools Used\",\"Regulation Status\"]\n",
    "X=pd.get_dummies(x,columns=category,drop_first=False)\n",
    "print(X)"
   ]
  },
  {
   "cell_type": "code",
   "execution_count": 47,
   "id": "28b83dce",
   "metadata": {},
   "outputs": [
    {
     "name": "stdout",
     "output_type": "stream",
     "text": [
      "37\n"
     ]
    }
   ],
   "source": [
    "print(len(X.columns))"
   ]
  },
  {
   "cell_type": "markdown",
   "id": "071b61ae",
   "metadata": {},
   "source": [
    "Spliting Train and Test data"
   ]
  },
  {
   "cell_type": "code",
   "execution_count": 48,
   "id": "82d4ea34",
   "metadata": {},
   "outputs": [],
   "source": [
    "from sklearn.model_selection import train_test_split\n",
    "x_train,x_test,y_train,y_test=train_test_split(X,y,test_size=0.25,random_state=20)"
   ]
  },
  {
   "cell_type": "code",
   "execution_count": 16,
   "id": "151ae596",
   "metadata": {},
   "outputs": [
    {
     "name": "stdout",
     "output_type": "stream",
     "text": [
      "(150, 37)\n",
      "(50, 37)\n",
      "(150,)\n",
      "(50,)\n"
     ]
    }
   ],
   "source": [
    "print(x_train.shape)\n",
    "print(x_test.shape)\n",
    "print(y_train.shape)\n",
    "print(y_test.shape)"
   ]
  },
  {
   "cell_type": "markdown",
   "id": "41675166",
   "metadata": {},
   "source": [
    "Alogrithms"
   ]
  },
  {
   "cell_type": "code",
   "execution_count": 49,
   "id": "bb6bc3ad",
   "metadata": {},
   "outputs": [],
   "source": [
    "from sklearn.linear_model import LinearRegression\n",
    "from sklearn.ensemble import RandomForestRegressor\n",
    "\n",
    "linear=LinearRegression()\n",
    "random=RandomForestRegressor()"
   ]
  },
  {
   "cell_type": "code",
   "execution_count": 50,
   "id": "4bbf7a22",
   "metadata": {},
   "outputs": [
    {
     "data": {
      "text/html": [
       "<style>#sk-container-id-2 {\n",
       "  /* Definition of color scheme common for light and dark mode */\n",
       "  --sklearn-color-text: #000;\n",
       "  --sklearn-color-text-muted: #666;\n",
       "  --sklearn-color-line: gray;\n",
       "  /* Definition of color scheme for unfitted estimators */\n",
       "  --sklearn-color-unfitted-level-0: #fff5e6;\n",
       "  --sklearn-color-unfitted-level-1: #f6e4d2;\n",
       "  --sklearn-color-unfitted-level-2: #ffe0b3;\n",
       "  --sklearn-color-unfitted-level-3: chocolate;\n",
       "  /* Definition of color scheme for fitted estimators */\n",
       "  --sklearn-color-fitted-level-0: #f0f8ff;\n",
       "  --sklearn-color-fitted-level-1: #d4ebff;\n",
       "  --sklearn-color-fitted-level-2: #b3dbfd;\n",
       "  --sklearn-color-fitted-level-3: cornflowerblue;\n",
       "\n",
       "  /* Specific color for light theme */\n",
       "  --sklearn-color-text-on-default-background: var(--sg-text-color, var(--theme-code-foreground, var(--jp-content-font-color1, black)));\n",
       "  --sklearn-color-background: var(--sg-background-color, var(--theme-background, var(--jp-layout-color0, white)));\n",
       "  --sklearn-color-border-box: var(--sg-text-color, var(--theme-code-foreground, var(--jp-content-font-color1, black)));\n",
       "  --sklearn-color-icon: #696969;\n",
       "\n",
       "  @media (prefers-color-scheme: dark) {\n",
       "    /* Redefinition of color scheme for dark theme */\n",
       "    --sklearn-color-text-on-default-background: var(--sg-text-color, var(--theme-code-foreground, var(--jp-content-font-color1, white)));\n",
       "    --sklearn-color-background: var(--sg-background-color, var(--theme-background, var(--jp-layout-color0, #111)));\n",
       "    --sklearn-color-border-box: var(--sg-text-color, var(--theme-code-foreground, var(--jp-content-font-color1, white)));\n",
       "    --sklearn-color-icon: #878787;\n",
       "  }\n",
       "}\n",
       "\n",
       "#sk-container-id-2 {\n",
       "  color: var(--sklearn-color-text);\n",
       "}\n",
       "\n",
       "#sk-container-id-2 pre {\n",
       "  padding: 0;\n",
       "}\n",
       "\n",
       "#sk-container-id-2 input.sk-hidden--visually {\n",
       "  border: 0;\n",
       "  clip: rect(1px 1px 1px 1px);\n",
       "  clip: rect(1px, 1px, 1px, 1px);\n",
       "  height: 1px;\n",
       "  margin: -1px;\n",
       "  overflow: hidden;\n",
       "  padding: 0;\n",
       "  position: absolute;\n",
       "  width: 1px;\n",
       "}\n",
       "\n",
       "#sk-container-id-2 div.sk-dashed-wrapped {\n",
       "  border: 1px dashed var(--sklearn-color-line);\n",
       "  margin: 0 0.4em 0.5em 0.4em;\n",
       "  box-sizing: border-box;\n",
       "  padding-bottom: 0.4em;\n",
       "  background-color: var(--sklearn-color-background);\n",
       "}\n",
       "\n",
       "#sk-container-id-2 div.sk-container {\n",
       "  /* jupyter's `normalize.less` sets `[hidden] { display: none; }`\n",
       "     but bootstrap.min.css set `[hidden] { display: none !important; }`\n",
       "     so we also need the `!important` here to be able to override the\n",
       "     default hidden behavior on the sphinx rendered scikit-learn.org.\n",
       "     See: https://github.com/scikit-learn/scikit-learn/issues/21755 */\n",
       "  display: inline-block !important;\n",
       "  position: relative;\n",
       "}\n",
       "\n",
       "#sk-container-id-2 div.sk-text-repr-fallback {\n",
       "  display: none;\n",
       "}\n",
       "\n",
       "div.sk-parallel-item,\n",
       "div.sk-serial,\n",
       "div.sk-item {\n",
       "  /* draw centered vertical line to link estimators */\n",
       "  background-image: linear-gradient(var(--sklearn-color-text-on-default-background), var(--sklearn-color-text-on-default-background));\n",
       "  background-size: 2px 100%;\n",
       "  background-repeat: no-repeat;\n",
       "  background-position: center center;\n",
       "}\n",
       "\n",
       "/* Parallel-specific style estimator block */\n",
       "\n",
       "#sk-container-id-2 div.sk-parallel-item::after {\n",
       "  content: \"\";\n",
       "  width: 100%;\n",
       "  border-bottom: 2px solid var(--sklearn-color-text-on-default-background);\n",
       "  flex-grow: 1;\n",
       "}\n",
       "\n",
       "#sk-container-id-2 div.sk-parallel {\n",
       "  display: flex;\n",
       "  align-items: stretch;\n",
       "  justify-content: center;\n",
       "  background-color: var(--sklearn-color-background);\n",
       "  position: relative;\n",
       "}\n",
       "\n",
       "#sk-container-id-2 div.sk-parallel-item {\n",
       "  display: flex;\n",
       "  flex-direction: column;\n",
       "}\n",
       "\n",
       "#sk-container-id-2 div.sk-parallel-item:first-child::after {\n",
       "  align-self: flex-end;\n",
       "  width: 50%;\n",
       "}\n",
       "\n",
       "#sk-container-id-2 div.sk-parallel-item:last-child::after {\n",
       "  align-self: flex-start;\n",
       "  width: 50%;\n",
       "}\n",
       "\n",
       "#sk-container-id-2 div.sk-parallel-item:only-child::after {\n",
       "  width: 0;\n",
       "}\n",
       "\n",
       "/* Serial-specific style estimator block */\n",
       "\n",
       "#sk-container-id-2 div.sk-serial {\n",
       "  display: flex;\n",
       "  flex-direction: column;\n",
       "  align-items: center;\n",
       "  background-color: var(--sklearn-color-background);\n",
       "  padding-right: 1em;\n",
       "  padding-left: 1em;\n",
       "}\n",
       "\n",
       "\n",
       "/* Toggleable style: style used for estimator/Pipeline/ColumnTransformer box that is\n",
       "clickable and can be expanded/collapsed.\n",
       "- Pipeline and ColumnTransformer use this feature and define the default style\n",
       "- Estimators will overwrite some part of the style using the `sk-estimator` class\n",
       "*/\n",
       "\n",
       "/* Pipeline and ColumnTransformer style (default) */\n",
       "\n",
       "#sk-container-id-2 div.sk-toggleable {\n",
       "  /* Default theme specific background. It is overwritten whether we have a\n",
       "  specific estimator or a Pipeline/ColumnTransformer */\n",
       "  background-color: var(--sklearn-color-background);\n",
       "}\n",
       "\n",
       "/* Toggleable label */\n",
       "#sk-container-id-2 label.sk-toggleable__label {\n",
       "  cursor: pointer;\n",
       "  display: flex;\n",
       "  width: 100%;\n",
       "  margin-bottom: 0;\n",
       "  padding: 0.5em;\n",
       "  box-sizing: border-box;\n",
       "  text-align: center;\n",
       "  align-items: start;\n",
       "  justify-content: space-between;\n",
       "  gap: 0.5em;\n",
       "}\n",
       "\n",
       "#sk-container-id-2 label.sk-toggleable__label .caption {\n",
       "  font-size: 0.6rem;\n",
       "  font-weight: lighter;\n",
       "  color: var(--sklearn-color-text-muted);\n",
       "}\n",
       "\n",
       "#sk-container-id-2 label.sk-toggleable__label-arrow:before {\n",
       "  /* Arrow on the left of the label */\n",
       "  content: \"▸\";\n",
       "  float: left;\n",
       "  margin-right: 0.25em;\n",
       "  color: var(--sklearn-color-icon);\n",
       "}\n",
       "\n",
       "#sk-container-id-2 label.sk-toggleable__label-arrow:hover:before {\n",
       "  color: var(--sklearn-color-text);\n",
       "}\n",
       "\n",
       "/* Toggleable content - dropdown */\n",
       "\n",
       "#sk-container-id-2 div.sk-toggleable__content {\n",
       "  max-height: 0;\n",
       "  max-width: 0;\n",
       "  overflow: hidden;\n",
       "  text-align: left;\n",
       "  /* unfitted */\n",
       "  background-color: var(--sklearn-color-unfitted-level-0);\n",
       "}\n",
       "\n",
       "#sk-container-id-2 div.sk-toggleable__content.fitted {\n",
       "  /* fitted */\n",
       "  background-color: var(--sklearn-color-fitted-level-0);\n",
       "}\n",
       "\n",
       "#sk-container-id-2 div.sk-toggleable__content pre {\n",
       "  margin: 0.2em;\n",
       "  border-radius: 0.25em;\n",
       "  color: var(--sklearn-color-text);\n",
       "  /* unfitted */\n",
       "  background-color: var(--sklearn-color-unfitted-level-0);\n",
       "}\n",
       "\n",
       "#sk-container-id-2 div.sk-toggleable__content.fitted pre {\n",
       "  /* unfitted */\n",
       "  background-color: var(--sklearn-color-fitted-level-0);\n",
       "}\n",
       "\n",
       "#sk-container-id-2 input.sk-toggleable__control:checked~div.sk-toggleable__content {\n",
       "  /* Expand drop-down */\n",
       "  max-height: 200px;\n",
       "  max-width: 100%;\n",
       "  overflow: auto;\n",
       "}\n",
       "\n",
       "#sk-container-id-2 input.sk-toggleable__control:checked~label.sk-toggleable__label-arrow:before {\n",
       "  content: \"▾\";\n",
       "}\n",
       "\n",
       "/* Pipeline/ColumnTransformer-specific style */\n",
       "\n",
       "#sk-container-id-2 div.sk-label input.sk-toggleable__control:checked~label.sk-toggleable__label {\n",
       "  color: var(--sklearn-color-text);\n",
       "  background-color: var(--sklearn-color-unfitted-level-2);\n",
       "}\n",
       "\n",
       "#sk-container-id-2 div.sk-label.fitted input.sk-toggleable__control:checked~label.sk-toggleable__label {\n",
       "  background-color: var(--sklearn-color-fitted-level-2);\n",
       "}\n",
       "\n",
       "/* Estimator-specific style */\n",
       "\n",
       "/* Colorize estimator box */\n",
       "#sk-container-id-2 div.sk-estimator input.sk-toggleable__control:checked~label.sk-toggleable__label {\n",
       "  /* unfitted */\n",
       "  background-color: var(--sklearn-color-unfitted-level-2);\n",
       "}\n",
       "\n",
       "#sk-container-id-2 div.sk-estimator.fitted input.sk-toggleable__control:checked~label.sk-toggleable__label {\n",
       "  /* fitted */\n",
       "  background-color: var(--sklearn-color-fitted-level-2);\n",
       "}\n",
       "\n",
       "#sk-container-id-2 div.sk-label label.sk-toggleable__label,\n",
       "#sk-container-id-2 div.sk-label label {\n",
       "  /* The background is the default theme color */\n",
       "  color: var(--sklearn-color-text-on-default-background);\n",
       "}\n",
       "\n",
       "/* On hover, darken the color of the background */\n",
       "#sk-container-id-2 div.sk-label:hover label.sk-toggleable__label {\n",
       "  color: var(--sklearn-color-text);\n",
       "  background-color: var(--sklearn-color-unfitted-level-2);\n",
       "}\n",
       "\n",
       "/* Label box, darken color on hover, fitted */\n",
       "#sk-container-id-2 div.sk-label.fitted:hover label.sk-toggleable__label.fitted {\n",
       "  color: var(--sklearn-color-text);\n",
       "  background-color: var(--sklearn-color-fitted-level-2);\n",
       "}\n",
       "\n",
       "/* Estimator label */\n",
       "\n",
       "#sk-container-id-2 div.sk-label label {\n",
       "  font-family: monospace;\n",
       "  font-weight: bold;\n",
       "  display: inline-block;\n",
       "  line-height: 1.2em;\n",
       "}\n",
       "\n",
       "#sk-container-id-2 div.sk-label-container {\n",
       "  text-align: center;\n",
       "}\n",
       "\n",
       "/* Estimator-specific */\n",
       "#sk-container-id-2 div.sk-estimator {\n",
       "  font-family: monospace;\n",
       "  border: 1px dotted var(--sklearn-color-border-box);\n",
       "  border-radius: 0.25em;\n",
       "  box-sizing: border-box;\n",
       "  margin-bottom: 0.5em;\n",
       "  /* unfitted */\n",
       "  background-color: var(--sklearn-color-unfitted-level-0);\n",
       "}\n",
       "\n",
       "#sk-container-id-2 div.sk-estimator.fitted {\n",
       "  /* fitted */\n",
       "  background-color: var(--sklearn-color-fitted-level-0);\n",
       "}\n",
       "\n",
       "/* on hover */\n",
       "#sk-container-id-2 div.sk-estimator:hover {\n",
       "  /* unfitted */\n",
       "  background-color: var(--sklearn-color-unfitted-level-2);\n",
       "}\n",
       "\n",
       "#sk-container-id-2 div.sk-estimator.fitted:hover {\n",
       "  /* fitted */\n",
       "  background-color: var(--sklearn-color-fitted-level-2);\n",
       "}\n",
       "\n",
       "/* Specification for estimator info (e.g. \"i\" and \"?\") */\n",
       "\n",
       "/* Common style for \"i\" and \"?\" */\n",
       "\n",
       ".sk-estimator-doc-link,\n",
       "a:link.sk-estimator-doc-link,\n",
       "a:visited.sk-estimator-doc-link {\n",
       "  float: right;\n",
       "  font-size: smaller;\n",
       "  line-height: 1em;\n",
       "  font-family: monospace;\n",
       "  background-color: var(--sklearn-color-background);\n",
       "  border-radius: 1em;\n",
       "  height: 1em;\n",
       "  width: 1em;\n",
       "  text-decoration: none !important;\n",
       "  margin-left: 0.5em;\n",
       "  text-align: center;\n",
       "  /* unfitted */\n",
       "  border: var(--sklearn-color-unfitted-level-1) 1pt solid;\n",
       "  color: var(--sklearn-color-unfitted-level-1);\n",
       "}\n",
       "\n",
       ".sk-estimator-doc-link.fitted,\n",
       "a:link.sk-estimator-doc-link.fitted,\n",
       "a:visited.sk-estimator-doc-link.fitted {\n",
       "  /* fitted */\n",
       "  border: var(--sklearn-color-fitted-level-1) 1pt solid;\n",
       "  color: var(--sklearn-color-fitted-level-1);\n",
       "}\n",
       "\n",
       "/* On hover */\n",
       "div.sk-estimator:hover .sk-estimator-doc-link:hover,\n",
       ".sk-estimator-doc-link:hover,\n",
       "div.sk-label-container:hover .sk-estimator-doc-link:hover,\n",
       ".sk-estimator-doc-link:hover {\n",
       "  /* unfitted */\n",
       "  background-color: var(--sklearn-color-unfitted-level-3);\n",
       "  color: var(--sklearn-color-background);\n",
       "  text-decoration: none;\n",
       "}\n",
       "\n",
       "div.sk-estimator.fitted:hover .sk-estimator-doc-link.fitted:hover,\n",
       ".sk-estimator-doc-link.fitted:hover,\n",
       "div.sk-label-container:hover .sk-estimator-doc-link.fitted:hover,\n",
       ".sk-estimator-doc-link.fitted:hover {\n",
       "  /* fitted */\n",
       "  background-color: var(--sklearn-color-fitted-level-3);\n",
       "  color: var(--sklearn-color-background);\n",
       "  text-decoration: none;\n",
       "}\n",
       "\n",
       "/* Span, style for the box shown on hovering the info icon */\n",
       ".sk-estimator-doc-link span {\n",
       "  display: none;\n",
       "  z-index: 9999;\n",
       "  position: relative;\n",
       "  font-weight: normal;\n",
       "  right: .2ex;\n",
       "  padding: .5ex;\n",
       "  margin: .5ex;\n",
       "  width: min-content;\n",
       "  min-width: 20ex;\n",
       "  max-width: 50ex;\n",
       "  color: var(--sklearn-color-text);\n",
       "  box-shadow: 2pt 2pt 4pt #999;\n",
       "  /* unfitted */\n",
       "  background: var(--sklearn-color-unfitted-level-0);\n",
       "  border: .5pt solid var(--sklearn-color-unfitted-level-3);\n",
       "}\n",
       "\n",
       ".sk-estimator-doc-link.fitted span {\n",
       "  /* fitted */\n",
       "  background: var(--sklearn-color-fitted-level-0);\n",
       "  border: var(--sklearn-color-fitted-level-3);\n",
       "}\n",
       "\n",
       ".sk-estimator-doc-link:hover span {\n",
       "  display: block;\n",
       "}\n",
       "\n",
       "/* \"?\"-specific style due to the `<a>` HTML tag */\n",
       "\n",
       "#sk-container-id-2 a.estimator_doc_link {\n",
       "  float: right;\n",
       "  font-size: 1rem;\n",
       "  line-height: 1em;\n",
       "  font-family: monospace;\n",
       "  background-color: var(--sklearn-color-background);\n",
       "  border-radius: 1rem;\n",
       "  height: 1rem;\n",
       "  width: 1rem;\n",
       "  text-decoration: none;\n",
       "  /* unfitted */\n",
       "  color: var(--sklearn-color-unfitted-level-1);\n",
       "  border: var(--sklearn-color-unfitted-level-1) 1pt solid;\n",
       "}\n",
       "\n",
       "#sk-container-id-2 a.estimator_doc_link.fitted {\n",
       "  /* fitted */\n",
       "  border: var(--sklearn-color-fitted-level-1) 1pt solid;\n",
       "  color: var(--sklearn-color-fitted-level-1);\n",
       "}\n",
       "\n",
       "/* On hover */\n",
       "#sk-container-id-2 a.estimator_doc_link:hover {\n",
       "  /* unfitted */\n",
       "  background-color: var(--sklearn-color-unfitted-level-3);\n",
       "  color: var(--sklearn-color-background);\n",
       "  text-decoration: none;\n",
       "}\n",
       "\n",
       "#sk-container-id-2 a.estimator_doc_link.fitted:hover {\n",
       "  /* fitted */\n",
       "  background-color: var(--sklearn-color-fitted-level-3);\n",
       "}\n",
       "</style><div id=\"sk-container-id-2\" class=\"sk-top-container\"><div class=\"sk-text-repr-fallback\"><pre>RandomForestRegressor()</pre><b>In a Jupyter environment, please rerun this cell to show the HTML representation or trust the notebook. <br />On GitHub, the HTML representation is unable to render, please try loading this page with nbviewer.org.</b></div><div class=\"sk-container\" hidden><div class=\"sk-item\"><div class=\"sk-estimator fitted sk-toggleable\"><input class=\"sk-toggleable__control sk-hidden--visually\" id=\"sk-estimator-id-2\" type=\"checkbox\" checked><label for=\"sk-estimator-id-2\" class=\"sk-toggleable__label fitted sk-toggleable__label-arrow\"><div><div>RandomForestRegressor</div></div><div><a class=\"sk-estimator-doc-link fitted\" rel=\"noreferrer\" target=\"_blank\" href=\"https://scikit-learn.org/1.6/modules/generated/sklearn.ensemble.RandomForestRegressor.html\">?<span>Documentation for RandomForestRegressor</span></a><span class=\"sk-estimator-doc-link fitted\">i<span>Fitted</span></span></div></label><div class=\"sk-toggleable__content fitted\"><pre>RandomForestRegressor()</pre></div> </div></div></div></div>"
      ],
      "text/plain": [
       "RandomForestRegressor()"
      ]
     },
     "execution_count": 50,
     "metadata": {},
     "output_type": "execute_result"
    }
   ],
   "source": [
    "linear.fit(x_train,y_train)\n",
    "random.fit(x_train,y_train)"
   ]
  },
  {
   "cell_type": "code",
   "execution_count": 51,
   "id": "57220796",
   "metadata": {},
   "outputs": [],
   "source": [
    "Models={\"LinearRegression\":linear,\n",
    "        \"RandomForest\":random}\n",
    "import pickle\n",
    "with open(\"ai_impact.pkl\",\"wb\") as f:\n",
    "    pickle.dump(Models,f)"
   ]
  },
  {
   "cell_type": "code",
   "execution_count": 52,
   "id": "f929d793",
   "metadata": {},
   "outputs": [],
   "source": [
    "y_pred1=linear.predict(x_test)\n",
    "y_pred2=random.predict(x_test)"
   ]
  },
  {
   "cell_type": "markdown",
   "id": "73a27383",
   "metadata": {},
   "source": [
    "Mean_squared_error outliers and R2 score variance"
   ]
  },
  {
   "cell_type": "code",
   "execution_count": 53,
   "id": "a3a923a9",
   "metadata": {},
   "outputs": [
    {
     "name": "stdout",
     "output_type": "stream",
     "text": [
      "Linear_Regression MSE:268.69321803681504\n",
      "Random forest     MSE:248.8510790932\n",
      "Linear_Regression R2 score:-0.21933445288657594\n",
      "RandomForest      R2 score:-0.12929048449137337\n"
     ]
    }
   ],
   "source": [
    "from sklearn.metrics import mean_squared_error,r2_score\n",
    "\n",
    "error1=mean_squared_error(y_test,y_pred1)\n",
    "error2=mean_squared_error(y_test,y_pred2)\n",
    "\n",
    "score1=r2_score(y_test,y_pred1)\n",
    "score2=r2_score(y_test,y_pred2)\n",
    "\n",
    "print(f\"Linear_Regression MSE:{error1}\")\n",
    "print(f\"Random forest     MSE:{error2}\")\n",
    "print(f\"Linear_Regression R2 score:{score1}\")\n",
    "print(f\"RandomForest      R2 score:{score2}\")\n"
   ]
  },
  {
   "cell_type": "markdown",
   "id": "44f456bb",
   "metadata": {},
   "source": [
    "User input"
   ]
  },
  {
   "cell_type": "code",
   "execution_count": 62,
   "id": "dffbb7df",
   "metadata": {},
   "outputs": [
    {
     "name": "stdout",
     "output_type": "stream",
     "text": [
      "Moderate\n"
     ]
    }
   ],
   "source": [
    "import numpy as np\n",
    "new=[\"india\",2025,\"Gaming\",20,20,20,30,30,\"chatgpt\",\"Moderate\",30,20]\n",
    "\n",
    "new_df=pd.DataFrame([new],columns=X.columns[:len(new)])\n",
    "dum=pd.get_dummies(new_df)\n",
    "new_data=dum.reindex(columns=X.columns,fill_value=0)\n",
    "\n",
    "\n",
    "result=linear.predict(new_data)/100\n",
    "if result>30:\n",
    "    print(\"High\")\n",
    "elif result>15:\n",
    "    print(\"Moderate\")\n",
    "else:\n",
    "    print(\"Low\")"
   ]
  },
  {
   "cell_type": "markdown",
   "id": "f2de41b2",
   "metadata": {},
   "source": [
    "Arima for Time series prediction"
   ]
  },
  {
   "cell_type": "code",
   "execution_count": null,
   "id": "2bd23ee1",
   "metadata": {},
   "outputs": [],
   "source": [
    "import pandas as pd\n",
    "import matplotlib.pyplot as plt\n",
    "from statsmodels.tsa.arima.model import ARIMA"
   ]
  },
  {
   "cell_type": "markdown",
   "id": "2ed3c37d",
   "metadata": {},
   "source": [
    "Load Year_data"
   ]
  },
  {
   "cell_type": "code",
   "execution_count": null,
   "id": "f6f6ad5e",
   "metadata": {},
   "outputs": [
    {
     "name": "stdout",
     "output_type": "stream",
     "text": [
      "0     2022-01-01\n",
      "1     2025-01-01\n",
      "2     2022-01-01\n",
      "3     2021-01-01\n",
      "4     2021-01-01\n",
      "         ...    \n",
      "195   2021-01-01\n",
      "196   2020-01-01\n",
      "197   2023-01-01\n",
      "198   2023-01-01\n",
      "199   2020-01-01\n",
      "Name: Year, Length: 200, dtype: datetime64[ns]\n"
     ]
    }
   ],
   "source": [
    "year=dataset[\"Year\"]\n",
    "year=pd.to_datetime(year,format=\"%Y\")\n",
    "print(year)"
   ]
  },
  {
   "cell_type": "markdown",
   "id": "0f625219",
   "metadata": {},
   "source": [
    "Revenue increase %"
   ]
  },
  {
   "cell_type": "code",
   "execution_count": 136,
   "id": "805faa7c",
   "metadata": {},
   "outputs": [
    {
     "name": "stdout",
     "output_type": "stream",
     "text": [
      "0    46.12\n",
      "1    52.46\n",
      "2    45.60\n",
      "3    78.24\n",
      "4     1.05\n",
      "Name: Revenue Increase Due to AI (%), dtype: float64\n"
     ]
    }
   ],
   "source": [
    "revenue=dataset[\"Revenue Increase Due to AI (%)\"]\n",
    "print(revenue[:5])"
   ]
  },
  {
   "cell_type": "markdown",
   "id": "57349d5c",
   "metadata": {},
   "source": [
    "Compine Year and Revenue data"
   ]
  },
  {
   "cell_type": "code",
   "execution_count": 153,
   "id": "5c0dd2f7",
   "metadata": {},
   "outputs": [
    {
     "name": "stdout",
     "output_type": "stream",
     "text": [
      "          Year  Revenue increase%\n",
      "0   2022-01-01              46.12\n",
      "1   2025-01-01              52.46\n",
      "2   2022-01-01              45.60\n",
      "3   2021-01-01              78.24\n",
      "4   2021-01-01               1.05\n",
      "..         ...                ...\n",
      "195 2021-01-01              12.14\n",
      "196 2020-01-01              57.86\n",
      "197 2023-01-01              79.44\n",
      "198 2023-01-01              50.50\n",
      "199 2020-01-01              34.27\n",
      "\n",
      "[200 rows x 2 columns]\n"
     ]
    }
   ],
   "source": [
    "new_data=pd.DataFrame({\"Year\":year,\n",
    "                     \"Revenue increase%\":revenue})\n",
    "print(new_data)"
   ]
  },
  {
   "cell_type": "markdown",
   "id": "3956fc43",
   "metadata": {},
   "source": [
    "Move year in index"
   ]
  },
  {
   "cell_type": "code",
   "execution_count": 170,
   "id": "72949a24",
   "metadata": {},
   "outputs": [
    {
     "name": "stdout",
     "output_type": "stream",
     "text": [
      "            Revenue increase%\n",
      "Year                         \n",
      "2022-01-01              46.12\n",
      "2025-01-01              52.46\n",
      "2022-01-01              45.60\n",
      "2021-01-01              78.24\n",
      "2021-01-01               1.05\n",
      "...                       ...\n",
      "2021-01-01              12.14\n",
      "2020-01-01              57.86\n",
      "2023-01-01              79.44\n",
      "2023-01-01              50.50\n",
      "2020-01-01              34.27\n",
      "\n",
      "[200 rows x 1 columns]\n"
     ]
    }
   ],
   "source": [
    "index_years=new_data.set_index(\"Year\")\n",
    "print(index_years)"
   ]
  },
  {
   "cell_type": "markdown",
   "id": "427c4c39",
   "metadata": {},
   "source": [
    "Arima Model"
   ]
  },
  {
   "cell_type": "code",
   "execution_count": 171,
   "id": "4ed71860",
   "metadata": {},
   "outputs": [],
   "source": [
    "arima_model=ARIMA(new_data[\"Revenue increase%\"],order=(1,1,1)) \n",
    "model_fit=arima_model.fit()"
   ]
  },
  {
   "cell_type": "markdown",
   "id": "bb3e6c75",
   "metadata": {},
   "source": [
    "Forecast"
   ]
  },
  {
   "cell_type": "code",
   "execution_count": 208,
   "id": "01abe461",
   "metadata": {},
   "outputs": [
    {
     "name": "stdout",
     "output_type": "stream",
     "text": [
      "200    39.693043\n",
      "201    39.719634\n",
      "202    39.719765\n",
      "203    39.719765\n",
      "204    39.719765\n",
      "205    39.719765\n",
      "206    39.719765\n",
      "Name: predicted_mean, dtype: float64\n"
     ]
    }
   ],
   "source": [
    "n=7\n",
    "forecasting=model_fit.forecast(steps=n)\n",
    "print(forecasting)"
   ]
  },
  {
   "cell_type": "markdown",
   "id": "77e363db",
   "metadata": {},
   "source": [
    "Last Year"
   ]
  },
  {
   "cell_type": "code",
   "execution_count": 207,
   "id": "834f3393",
   "metadata": {},
   "outputs": [
    {
     "name": "stdout",
     "output_type": "stream",
     "text": [
      "2020-01-01 00:00:00\n"
     ]
    }
   ],
   "source": [
    "last_year=index_years.index[-1]\n",
    "print(last_year)"
   ]
  },
  {
   "cell_type": "markdown",
   "id": "3a901c49",
   "metadata": {},
   "source": [
    "Continues Future Years"
   ]
  },
  {
   "cell_type": "code",
   "execution_count": 181,
   "id": "d7b2b108",
   "metadata": {},
   "outputs": [
    {
     "name": "stdout",
     "output_type": "stream",
     "text": [
      "[Timestamp('2021-01-01 00:00:00'), Timestamp('2022-01-01 00:00:00'), Timestamp('2023-01-01 00:00:00'), Timestamp('2024-01-01 00:00:00'), Timestamp('2025-01-01 00:00:00'), Timestamp('2026-01-01 00:00:00'), Timestamp('2027-01-01 00:00:00')]\n"
     ]
    }
   ],
   "source": [
    "future_years=[last_year+pd.DateOffset(years=i) for i in range(1,n+1)]\n",
    "print(future_years)"
   ]
  },
  {
   "cell_type": "code",
   "execution_count": 197,
   "id": "69927cd0",
   "metadata": {},
   "outputs": [
    {
     "name": "stdout",
     "output_type": "stream",
     "text": [
      "          year  Avg_forecast\n",
      "200 2021-01-01     39.693043\n",
      "201 2022-01-01     39.719634\n",
      "202 2023-01-01     39.719765\n",
      "203 2024-01-01     39.719765\n",
      "204 2025-01-01     39.719765\n",
      "205 2026-01-01     39.719765\n",
      "206 2027-01-01     39.719765\n"
     ]
    }
   ],
   "source": [
    "forecast=pd.DataFrame({\"year\":future_years,\n",
    "                     \"Avg_forecast\":forecasting})\n",
    "print(forecast)"
   ]
  },
  {
   "cell_type": "markdown",
   "id": "d292f565",
   "metadata": {},
   "source": [
    "Average Revenue increase %"
   ]
  },
  {
   "cell_type": "code",
   "execution_count": 198,
   "id": "7c8aff26",
   "metadata": {},
   "outputs": [
    {
     "data": {
      "image/png": "[encoded data removed]",
      "text/plain": [
       "<Figure size 640x480 with 1 Axes>"
      ]
     },
     "metadata": {},
     "output_type": "display_data"
    }
   ],
   "source": [
    "plt.plot(forecast[\"year\"],forecast[\"Avg_forecast\"])\n",
    "plt.title(\"Revinue increase % forecasting\")\n",
    "plt.xlabel(\"Year\")\n",
    "plt.ylabel(\"Average Revenue increase%\")\n",
    "plt.show()"
   ]
  }
 ],
 "metadata": {
  "kernelspec": {
   "display_name": "Python 3",
   "language": "python",
   "name": "python3"
  },
  "language_info": {
   "codemirror_mode": {
    "name": "ipython",
    "version": 3
   },
   "file_extension": ".py",
   "mimetype": "text/x-python",
   "name": "python",
   "nbconvert_exporter": "python",
   "pygments_lexer": "ipython3",
   "version": "3.9.6"
  }
 },
 "nbformat": 4,
 "nbformat_minor": 5
}
